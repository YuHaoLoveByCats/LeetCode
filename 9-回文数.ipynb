{
 "cells": [
  {
   "cell_type": "markdown",
   "metadata": {},
   "source": [
    "## 题目\n",
    ">判断一个整数是否是回文数。回文数是指正序（从左向右）和倒序（从右向左）读都是一样的整数。\n",
    "### 示例 1\n",
    ">输入: 121<br>\n",
    ">输出: true<br>\n",
    "### 示例 2\n",
    ">输入: -121<br>\n",
    ">输出: false<br>\n",
    ">解释: 从左向右读, 为 -121 。 从右向左读, 为 121- 。因此它不是一个回文数。\n",
    "### 示例 3\n",
    ">输入: 10<br>\n",
    ">输出: false<br>\n",
    ">解释: 从右向左读, 为 01 。因此它不是一个回文数。"
   ]
  },
  {
   "cell_type": "markdown",
   "metadata": {},
   "source": [
    "## 题解"
   ]
  },
  {
   "cell_type": "markdown",
   "metadata": {},
   "source": [
    "### 解法一：\n",
    "- 思路：转换为字符串，字符串翻转，再判断"
   ]
  },
  {
   "cell_type": "code",
   "execution_count": 48,
   "metadata": {},
   "outputs": [
    {
     "data": {
      "text/plain": [
       "True"
      ]
     },
     "execution_count": 48,
     "metadata": {},
     "output_type": "execute_result"
    }
   ],
   "source": [
    "def isPalindrome(x: int) -> bool:\n",
    "    return str(x)==str(x)[::-1]\n",
    "isPalindrome(0)\n",
    "    "
   ]
  },
  {
   "cell_type": "markdown",
   "metadata": {},
   "source": [
    "### 解法二：\n",
    "- 思路：翻转数字的后半部分，与前半部分比较"
   ]
  },
  {
   "cell_type": "markdown",
   "metadata": {},
   "source": [
    "- 思路二："
   ]
  },
  {
   "cell_type": "code",
   "execution_count": 5,
   "metadata": {},
   "outputs": [
    {
     "data": {
      "text/plain": [
       "3"
      ]
     },
     "execution_count": 5,
     "metadata": {},
     "output_type": "execute_result"
    }
   ],
   "source": [
    "123%10"
   ]
  },
  {
   "cell_type": "code",
   "execution_count": 28,
   "metadata": {},
   "outputs": [
    {
     "name": "stdout",
     "output_type": "stream",
     "text": [
      "5\n",
      "0\n",
      "123443\n",
      "3\n",
      "12344\n"
     ]
    }
   ],
   "source": [
    "count=0\n",
    "s=123443\n",
    "x=s\n",
    "while x>10:\n",
    "    count +=1\n",
    "    x=x//10\n",
    "print(count)\n",
    "print(s//10**6)\n",
    "print(s%10**6)\n",
    "print(s%10)\n",
    "print(s//10)"
   ]
  },
  {
   "cell_type": "code",
   "execution_count": 49,
   "metadata": {},
   "outputs": [
    {
     "name": "stdout",
     "output_type": "stream",
     "text": [
      "0\n"
     ]
    },
    {
     "data": {
      "text/plain": [
       "True"
      ]
     },
     "execution_count": 49,
     "metadata": {},
     "output_type": "execute_result"
    }
   ],
   "source": [
    "def isPalindrome2(x:int)->bool:\n",
    "    if x<0:\n",
    "        return False\n",
    "    else: \n",
    "        tmp=x\n",
    "        count=0\n",
    "        while tmp>=10:\n",
    "            tmp = tmp//10\n",
    "            print(tmp)\n",
    "            count +=1\n",
    "        print(count)\n",
    "        if count%2==0:\n",
    "            tmp_c=count//2\n",
    "            head_x=x\n",
    "            tail_x=x\n",
    "            while  count>=tmp_c:\n",
    "                if head_x//10**count == tail_x%10:\n",
    "                    head_x = head_x%10**count\n",
    "                    tail_x = tail_x//10\n",
    "                    count -=1\n",
    "                    continue\n",
    "                else:\n",
    "                    return False\n",
    "            return True\n",
    "        else:\n",
    "            tmp_c =(count+1)//2\n",
    "            head_x=x\n",
    "            tail_x=x\n",
    "            while  count>=tmp_c:\n",
    "                if head_x//10**count == tail_x%10:\n",
    "                    head_x = head_x%10**count\n",
    "                    tail_x = tail_x//10\n",
    "                    count -=1\n",
    "                    continue\n",
    "                else:\n",
    "                    return False\n",
    "            return True\n",
    "isPalindrome2(0)"
   ]
  }
 ],
 "metadata": {
  "kernelspec": {
   "display_name": "Python 3",
   "language": "python",
   "name": "python3"
  },
  "language_info": {
   "codemirror_mode": {
    "name": "ipython",
    "version": 3
   },
   "file_extension": ".py",
   "mimetype": "text/x-python",
   "name": "python",
   "nbconvert_exporter": "python",
   "pygments_lexer": "ipython3",
   "version": "3.7.4"
  }
 },
 "nbformat": 4,
 "nbformat_minor": 2
}
