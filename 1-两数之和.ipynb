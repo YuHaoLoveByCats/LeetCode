{
 "cells": [
  {
   "cell_type": "markdown",
   "metadata": {},
   "source": [
    "- 两数之和\n",
    ">- 题目：给定一个整数数组 nums 和一个目标值 target，请你在该数组中找出和为目标值的那 两个 整数，并返回他们的数组下标。\n",
    "你可以假设每种输入只会对应一个答案。但是，你不能重复利用这个数组中同样的元素。\n",
    ">- 示例：\n",
    "给定 nums = [2, 7, 11, 15], target = 9<br>\n",
    "因为 nums[0] + nums[1] = 2 + 7 = 9<br>\n",
    "所以返回 [0, 1]<br>"
   ]
  },
  {
   "cell_type": "code",
   "execution_count": 8,
   "metadata": {},
   "outputs": [
    {
     "name": "stdout",
     "output_type": "stream",
     "text": [
      "dict_keys([1, 2, 3, 4])\n"
     ]
    },
    {
     "data": {
      "text/plain": [
       "[0, 3]"
      ]
     },
     "execution_count": 8,
     "metadata": {},
     "output_type": "execute_result"
    }
   ],
   "source": [
    "def twoSum(nums, target):\n",
    "    temp={}\n",
    "    for i in range(len(nums)):\n",
    "        temp[nums[i]]=i\n",
    "    for i in range(len(nums)):\n",
    "        tmp = target -nums[i]\n",
    "        if tmp in temp.keys():\n",
    "            print(temp.keys())\n",
    "            return [i,temp[tmp]]\n",
    "twoSum([1,2,3,4],5)           \n",
    "            "
   ]
  }
 ],
 "metadata": {
  "kernelspec": {
   "display_name": "Python 3",
   "language": "python",
   "name": "python3"
  },
  "language_info": {
   "codemirror_mode": {
    "name": "ipython",
    "version": 3
   },
   "file_extension": ".py",
   "mimetype": "text/x-python",
   "name": "python",
   "nbconvert_exporter": "python",
   "pygments_lexer": "ipython3",
   "version": "3.7.4"
  }
 },
 "nbformat": 4,
 "nbformat_minor": 2
}
