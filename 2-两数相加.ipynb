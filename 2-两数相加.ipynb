{
 "cells": [
  {
   "cell_type": "markdown",
   "metadata": {},
   "source": [
    "- 两数相加\n",
    ">- 题目： 给出两个 非空 的链表用来表示两个非负的整数。其中，它们各自的位数是按照 逆序 的方式存储的，并且它们的每个节点只能存储 一位 数字。\n",
    "如果，我们将这两个数相加起来，则会返回一个新的链表来表示它们的和。\n",
    "您可以假设除了数字 0 之外，这两个数都不会以 0 开头。\n",
    ">- 示例：输入：(2 -> 4 -> 3) + (5 -> 6 -> 4)\n",
    "输出：7 -> 0 -> 8\n",
    "原因：342 + 465 = 807"
   ]
  },
  {
   "cell_type": "code",
   "execution_count": 1,
   "metadata": {},
   "outputs": [
    {
     "name": "stdout",
     "output_type": "stream",
     "text": [
      "[9, 9, 9] [1, 0]\n",
      "[9, 9, 9] [0, 1]\n",
      "2 1\n",
      "999 1\n",
      "[0, 0, 0, 1]\n"
     ]
    },
    {
     "data": {
      "text/plain": [
       "<__main__.ListNode at 0x2354c7c1f08>"
      ]
     },
     "execution_count": 1,
     "metadata": {},
     "output_type": "execute_result"
    }
   ],
   "source": [
    "# 定义：链表节点类\n",
    "class ListNode:\n",
    "    def __init__(self,x):\n",
    "        self.val=x\n",
    "        self.next=None\n",
    "        \n",
    "# 定义：链表函数\n",
    "def CreatList(num):\n",
    "    tmp = num%10\n",
    "    valtmp = num//10\n",
    "    # 创建根节点\n",
    "    lnode =ListNode(tmp)\n",
    "    lnode1 = ListNode(valtmp%10)\n",
    "    # 根节点的下一节点\n",
    "    lnode.next=lnode1\n",
    "    valtmp=valtmp//10\n",
    "    while valtmp !=0:\n",
    "        lnode2=ListNode(valtmp%10)\n",
    "        lnode1.next=lnode2\n",
    "        lnode1=lnode1.next\n",
    "        #print(lnode1.val)\n",
    "        valtmp =valtmp//10  \n",
    "    return lnode\n",
    "# 定义：addTwoNumbers函数\n",
    "def addTwoNumbers(l1,l2):\n",
    "    # 存放节点的数字\n",
    "    num1=[]\n",
    "    num2=[]\n",
    "    \n",
    "    while l1!=None:\n",
    "        num1.append(l1.val)\n",
    "        l1=l1.next\n",
    "    while l2!=None:\n",
    "        num2.append(l2.val)\n",
    "        l2=l2.next\n",
    "        \n",
    "#     print(num1,num2)\n",
    "    # 等长时处理\n",
    "   # for i,j in zip(num1,num2):\n",
    "   #     num.append(i+j)\n",
    "    \n",
    "#     # 不等长处理\n",
    "#     if len(num1)>=len(num2):\n",
    "#         num=num1\n",
    "#         for i in range(len(num2)):\n",
    "#             num[i]=num2[i]+num1[i]\n",
    "#     else:\n",
    "#         num=num2\n",
    "#         for i in range(len(num1)):\n",
    "#             num[i]=num1[i]+num2[i]\n",
    "    # 重点处理环节 ：两位相加，凑10,进位问题\n",
    "    \n",
    "    print(num1,num2)\n",
    "    num1.reverse()\n",
    "    num2.reverse()\n",
    "    count1=len(num1)-1\n",
    "    count2=len(num2)-1\n",
    "    print(num1,num2)\n",
    "    print(count1,count2)\n",
    "    interger1=0\n",
    "    interger2=0\n",
    "    for i in num1:\n",
    "        interger1 +=i*(10**count1)\n",
    "        count1 -=1\n",
    "    for j in num2:\n",
    "        interger2 +=j*(10**count2)\n",
    "        count2 -=1\n",
    "    print(interger1,interger2)\n",
    "    interger=interger1+interger2\n",
    "    \n",
    "    num =[]\n",
    "    while True:\n",
    "        num.append(interger%10)\n",
    "        interger =interger//10\n",
    "        if interger==0:\n",
    "            break\n",
    "    print(num)\n",
    "#     for i in range(len(num)):\n",
    "#         if num[i]>=10:\n",
    "#             num[i+1] +=1\n",
    "#             num[i]=num[i]%10\n",
    "    # 打印\n",
    "    lnode=ListNode(num[0])\n",
    "    if len(num)>1:\n",
    "        lnode1=ListNode(num[1])\n",
    "        lnode.next=lnode1\n",
    "    for i in range(len(num)):\n",
    "        if i>1:\n",
    "            lnode2=ListNode(num[i])\n",
    "            lnode1.next=lnode2\n",
    "            lnode1=lnode2\n",
    "    return lnode\n",
    "# 创建链表 345,263\n",
    "LL_345=CreatList(999)\n",
    "LL_263=CreatList(1)\n",
    "\n",
    "addTwoNumbers(LL_345,LL_263)\n",
    "# 遍历一下已创建的链表\n",
    "# print(LL_345.val,LL_345.next.val,LL_345.next.next.val)"
   ]
  },
  {
   "cell_type": "code",
   "execution_count": 2,
   "metadata": {},
   "outputs": [
    {
     "name": "stdout",
     "output_type": "stream",
     "text": [
      "0\n",
      "2\n"
     ]
    }
   ],
   "source": [
    "class ListNode:\n",
    "    def __init__(self,x):\n",
    "        self.val=x\n",
    "        self.next=None\n",
    "# 创建链表\n",
    "dumpyRoot = ListNode(0) #创建根节点\n",
    "ptr = dumpyRoot\n",
    "ptr.next=ListNode(2)\n",
    "ptr=ptr.next\n",
    "print(dumpyRoot.val)\n",
    "print(dumpyRoot.next.val)"
   ]
  }
 ],
 "metadata": {
  "kernelspec": {
   "display_name": "Python 3",
   "language": "python",
   "name": "python3"
  },
  "language_info": {
   "codemirror_mode": {
    "name": "ipython",
    "version": 3
   },
   "file_extension": ".py",
   "mimetype": "text/x-python",
   "name": "python",
   "nbconvert_exporter": "python",
   "pygments_lexer": "ipython3",
   "version": "3.7.4"
  }
 },
 "nbformat": 4,
 "nbformat_minor": 2
}
