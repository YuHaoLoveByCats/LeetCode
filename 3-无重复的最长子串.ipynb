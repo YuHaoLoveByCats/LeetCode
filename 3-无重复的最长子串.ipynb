{
 "cells": [
  {
   "cell_type": "markdown",
   "metadata": {},
   "source": [
    "## 题目：无重复的最长子串\n",
    ">给定一个字符串，请你找出其中不含有重复字符的 最长子串 的长度。\n",
    "### 示例 1:<br>\n",
    ">输入: \"abcabcbb\"<br>\n",
    ">输出: 3 <br>\n",
    ">解释: 因为无重复字符的最长子串是 \"abc\"，所以其长度为 3。\n",
    "### 示例 2:<br>\n",
    ">输入: \"bbbbb\"<br>\n",
    ">输出: 1<br>\n",
    ">解释: 因为无重复字符的最长子串是 \"b\"，所以其长度为 1。\n",
    "### 示例 3:\n",
    ">输入: \"pwwkew\"<br>\n",
    ">输出: 3<br>\n",
    ">解释: 因为无重复字符的最长子串是 \"wke\"，所以其长度为 3。<br>\n",
    ">请注意，你的答案必须是 子串 的长度，\"pwke\" 是一个子序列，不是子串。"
   ]
  },
  {
   "cell_type": "markdown",
   "metadata": {},
   "source": [
    "## 题解"
   ]
  },
  {
   "cell_type": "markdown",
   "metadata": {},
   "source": [
    "### 方法一：暴力法\n",
    "- 思路：逐个检查所有的子字符串，看它是否不含有重复的字符。\n",
    "- 步骤一：枚举给定字符串的所有子字符串\n",
    "- 步骤二：判读每个子字符串是否无重复，有重复返回false，无重复返回长度，并及时更新最大的长度"
   ]
  },
  {
   "cell_type": "code",
   "execution_count": 1,
   "metadata": {},
   "outputs": [
    {
     "name": "stdout",
     "output_type": "stream",
     "text": [
      "a\n",
      "ab\n",
      "abc\n",
      "abca\n",
      "abcab\n",
      "abcabc\n",
      "abcabcb\n",
      "abcabcbb\n",
      "b\n",
      "bc\n",
      "bca\n",
      "bcab\n",
      "bcabc\n",
      "bcabcb\n",
      "bcabcbb\n",
      "c\n",
      "ca\n",
      "cab\n",
      "cabc\n",
      "cabcb\n",
      "cabcbb\n",
      "a\n",
      "ab\n",
      "abc\n",
      "abcb\n",
      "abcbb\n",
      "b\n",
      "bc\n",
      "bcb\n",
      "bcbb\n",
      "c\n",
      "cb\n",
      "cbb\n",
      "b\n",
      "bb\n",
      "b\n"
     ]
    }
   ],
   "source": [
    "#枚举所有子串\n",
    "s1='abcabcbb'\n",
    "for i in range(len(s1)):\n",
    "    tmp =''\n",
    "    for j in range(i,len(s1)):\n",
    "        tmp = tmp+s1[j]\n",
    "        print(tmp)"
   ]
  },
  {
   "cell_type": "code",
   "execution_count": null,
   "metadata": {},
   "outputs": [],
   "source": [
    "#判断字符串是否有重复字符\n",
    "s2='abcabcbb'\n",
    "def isSub(s): \n",
    "    s3=''\n",
    "    for i in s2:\n",
    "        if i in s3:\n",
    "            return 0\n",
    "        else:\n",
    "            s3 =s3+i\n",
    "    return len(s3)\n",
    "isSub(s2)"
   ]
  },
  {
   "cell_type": "code",
   "execution_count": 7,
   "metadata": {
    "scrolled": true
   },
   "outputs": [
    {
     "data": {
      "text/plain": [
       "3"
      ]
     },
     "execution_count": 7,
     "metadata": {},
     "output_type": "execute_result"
    }
   ],
   "source": [
    "# 完整暴力解法\n",
    "     \n",
    "def isSub(s): \n",
    "    s3=''\n",
    "    for i in s:\n",
    "        if i in s3:\n",
    "            return 0\n",
    "        else:\n",
    "            s3 =s3+i\n",
    "    return len(s3)\n",
    "def length0fLongestSubstring1(s):\n",
    "    count =0\n",
    "    stmp=s\n",
    "    for i in range(len(stmp)):\n",
    "        tmp =''\n",
    "        for j in range(i,len(stmp)):\n",
    "            tmp =tmp+stmp[j]\n",
    "#             print(tmp)\n",
    "            tmpcount= isSub(tmp)\n",
    "#         print(tmpcount)\n",
    "            if tmpcount>count:\n",
    "                count=tmpcount\n",
    "    return count\n",
    "\n",
    "length0fLongestSubstring1('abcabcbb')"
   ]
  },
  {
   "cell_type": "markdown",
   "metadata": {},
   "source": [
    "### 方法二：滑动窗口\n",
    "- 滑动窗口：\n",
    ">滑动窗口是数组/字符串问题中常用的抽象概念。 窗口通常是在数组/字符串中由开始和结束索引定义的一系列元素的集合，即 $[i, j)[i,j)$（左闭，右开）。而滑动窗口是可以将两个边界向某一方向“滑动”的窗口。例如，我们将 $[i, j)[i,j)$向右滑动 1 个元素，则它将变为 $[i+1, j+1)[i+1,j+1)$（左闭，右开）\n",
    "- 思路：\n",
    "> - 滑动窗口相当于一个队列,比如例题中的 abcabcbb，进入这个队列（窗口）为 abc 满足题目要求，当再进入 a，队列变成了 abca，这时候不满足要求。所以，我们要移动这个队列！<br>\n",
    ">- 如何移动？<br>\n",
    "只要把队列的左边的元素移出，直到满足题目要求！\n",
    "一直维持这样的队列，找出队列出现最长的长度时候，求出解！\n",
    "时间复杂度：O(n)O(n)\n",
    "\n",
    "![](attach/滑动窗口.png)"
   ]
  },
  {
   "cell_type": "code",
   "execution_count": 26,
   "metadata": {},
   "outputs": [
    {
     "name": "stdout",
     "output_type": "stream",
     "text": [
      "{'p'}\n",
      "{'p', 'w'}\n",
      "{'w'}\n",
      "{'w'}\n",
      "{'k', 'w'}\n",
      "{'k', 'w', 'e'}\n",
      "{'k', 'w', 'e'}\n"
     ]
    },
    {
     "data": {
      "text/plain": [
       "3"
      ]
     },
     "execution_count": 26,
     "metadata": {},
     "output_type": "execute_result"
    }
   ],
   "source": [
    "class Solution:\n",
    "    def lengthOfLongestSubstring(self, s: str) -> int:\n",
    "        if not s:return 0\n",
    "        left = 0\n",
    "        lookup = set()\n",
    "        n = len(s)\n",
    "        max_len = 0\n",
    "        cur_len = 0\n",
    "        for i in range(n):\n",
    "            cur_len += 1\n",
    "            while s[i] in lookup:\n",
    "                lookup.remove(s[left])\n",
    "                left += 1\n",
    "                cur_len -= 1\n",
    "                \n",
    "            if cur_len > max_len:\n",
    "                max_len = cur_len\n",
    "            lookup.add(s[i])\n",
    "            print(lookup)\n",
    "        return max_len\n",
    "a = Solution()\n",
    "a.lengthOfLongestSubstring('pwwwkew')\n"
   ]
  },
  {
   "cell_type": "code",
   "execution_count": 11,
   "metadata": {},
   "outputs": [
    {
     "data": {
      "text/plain": [
       "2"
      ]
     },
     "execution_count": 11,
     "metadata": {},
     "output_type": "execute_result"
    }
   ],
   "source": [
    "max(1,2)"
   ]
  },
  {
   "cell_type": "code",
   "execution_count": 18,
   "metadata": {
    "collapsed": true
   },
   "outputs": [
    {
     "name": "stdout",
     "output_type": "stream",
     "text": [
      "1 0\n",
      "{'a': 1}\n",
      "2 0\n",
      "{'a': 1, 'b': 2}\n",
      "3 0\n",
      "{'a': 1, 'b': 2, 'c': 3}\n",
      "j: 3\n",
      "3 1\n",
      "{'a': 4, 'b': 2, 'c': 3}\n",
      "j: 4\n",
      "3 2\n",
      "{'a': 4, 'b': 5, 'c': 3}\n",
      "j: 5\n",
      "3 3\n",
      "{'a': 4, 'b': 5, 'c': 6}\n",
      "4 3\n",
      "{'a': 4, 'b': 5, 'c': 6, 'd': 7}\n"
     ]
    },
    {
     "data": {
      "text/plain": [
       "4"
      ]
     },
     "execution_count": 18,
     "metadata": {},
     "output_type": "execute_result"
    }
   ],
   "source": [
    " def lengthOfLongestSubstring(s):\n",
    "        \"\"\"\n",
    "        :type s: str\n",
    "        :rtype: int\n",
    "        \"\"\"\n",
    "        st = {}\n",
    "        i, ans = 0, 0\n",
    "        for j in range(len(s)):\n",
    "            if s[j] in st:\n",
    "                i = max(st[s[j]], i)\n",
    "                print(\"j:\",j)\n",
    "            ans = max(ans, j - i + 1)\n",
    "            print(ans,i)\n",
    "            st[s[j]] = j + 1\n",
    "            print(st)\n",
    "        return ans;\n",
    "lengthOfLongestSubstring('abcabcd')"
   ]
  },
  {
   "cell_type": "code",
   "execution_count": 21,
   "metadata": {
    "collapsed": true
   },
   "outputs": [
    {
     "data": {
      "text/plain": [
       "['__and__',\n",
       " '__class__',\n",
       " '__contains__',\n",
       " '__delattr__',\n",
       " '__dir__',\n",
       " '__doc__',\n",
       " '__eq__',\n",
       " '__format__',\n",
       " '__ge__',\n",
       " '__getattribute__',\n",
       " '__gt__',\n",
       " '__hash__',\n",
       " '__iand__',\n",
       " '__init__',\n",
       " '__init_subclass__',\n",
       " '__ior__',\n",
       " '__isub__',\n",
       " '__iter__',\n",
       " '__ixor__',\n",
       " '__le__',\n",
       " '__len__',\n",
       " '__lt__',\n",
       " '__ne__',\n",
       " '__new__',\n",
       " '__or__',\n",
       " '__rand__',\n",
       " '__reduce__',\n",
       " '__reduce_ex__',\n",
       " '__repr__',\n",
       " '__ror__',\n",
       " '__rsub__',\n",
       " '__rxor__',\n",
       " '__setattr__',\n",
       " '__sizeof__',\n",
       " '__str__',\n",
       " '__sub__',\n",
       " '__subclasshook__',\n",
       " '__xor__',\n",
       " 'add',\n",
       " 'clear',\n",
       " 'copy',\n",
       " 'difference',\n",
       " 'difference_update',\n",
       " 'discard',\n",
       " 'intersection',\n",
       " 'intersection_update',\n",
       " 'isdisjoint',\n",
       " 'issubset',\n",
       " 'issuperset',\n",
       " 'pop',\n",
       " 'remove',\n",
       " 'symmetric_difference',\n",
       " 'symmetric_difference_update',\n",
       " 'union',\n",
       " 'update']"
      ]
     },
     "execution_count": 21,
     "metadata": {},
     "output_type": "execute_result"
    }
   ],
   "source": [
    "dir(set())"
   ]
  }
 ],
 "metadata": {
  "kernelspec": {
   "display_name": "Python 3",
   "language": "python",
   "name": "python3"
  },
  "language_info": {
   "codemirror_mode": {
    "name": "ipython",
    "version": 3
   },
   "file_extension": ".py",
   "mimetype": "text/x-python",
   "name": "python",
   "nbconvert_exporter": "python",
   "pygments_lexer": "ipython3",
   "version": "3.7.4"
  }
 },
 "nbformat": 4,
 "nbformat_minor": 2
}
