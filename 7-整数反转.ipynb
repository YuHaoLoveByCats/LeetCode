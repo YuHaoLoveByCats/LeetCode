{
 "cells": [
  {
   "cell_type": "markdown",
   "metadata": {},
   "source": [
    "### 整数翻转\n",
    "- 题目：给出一个 32 位的有符号整数，你需要将这个整数中每位上的数字进行反转。\n",
    "- 示例1:\n",
    ">输入: 123<br>\n",
    ">输出: 321\n",
    "- 示例2：\n",
    ">输入: -123<br>\n",
    ">输出: -321\n",
    "- 示例3：\n",
    ">输入: 120<br>\n",
    ">输出: 21\n",
    "- 注意：\n",
    ">假设我们的环境只能存储得下 32 位的有符号整数，则其数值范围为 $[−2^{31},  2^{31} − 1]$。请根据这个假设，如果反转后整数溢出那么就返回 0。"
   ]
  },
  {
   "cell_type": "markdown",
   "metadata": {},
   "source": [
    "#### 相关知识了解"
   ]
  },
  {
   "cell_type": "code",
   "execution_count": 21,
   "metadata": {},
   "outputs": [
    {
     "data": {
      "text/plain": [
       "-132"
      ]
     },
     "execution_count": 21,
     "metadata": {},
     "output_type": "execute_result"
    }
   ],
   "source": [
    "# 负数处理\n",
    "str1= str(-231)\n",
    "int('-'+str1[1:][::-1])"
   ]
  },
  {
   "cell_type": "code",
   "execution_count": 23,
   "metadata": {},
   "outputs": [
    {
     "data": {
      "text/plain": [
       "21"
      ]
     },
     "execution_count": 23,
     "metadata": {},
     "output_type": "execute_result"
    }
   ],
   "source": [
    "# 整数最后一位为零处理\n",
    "str2=str(120)\n",
    "int(str2[::-1][1:])"
   ]
  },
  {
   "cell_type": "code",
   "execution_count": 27,
   "metadata": {},
   "outputs": [
    {
     "data": {
      "text/plain": [
       "'23'"
      ]
     },
     "execution_count": 27,
     "metadata": {},
     "output_type": "execute_result"
    }
   ],
   "source": [
    "s='234'\n",
    "s[-1:]\n",
    "s[:-1]"
   ]
  },
  {
   "cell_type": "markdown",
   "metadata": {},
   "source": [
    "#### 解法一\n",
    "- 使用语言：python\n",
    "- 主要思想：字符串切片翻转；整数与字符串的转换"
   ]
  },
  {
   "cell_type": "code",
   "execution_count": 47,
   "metadata": {},
   "outputs": [
    {
     "name": "stdout",
     "output_type": "stream",
     "text": [
      "1230\n"
     ]
    },
    {
     "data": {
      "text/plain": [
       "-321"
      ]
     },
     "execution_count": 47,
     "metadata": {},
     "output_type": "execute_result"
    }
   ],
   "source": [
    "def reverse(x):\n",
    "    str_x=str(x)\n",
    "    if x<0:\n",
    "        str1_x=str_x[1:] #提取非负号部分\n",
    "        print(str1_x)\n",
    "        # 判断最后一位是否为0\n",
    "        if int(str1_x[-1:])==0:\n",
    "            str1_x=str1_x[:-1]\n",
    "            if int('-'+str1_x[::-1])<-2**31:\n",
    "                return 0\n",
    "            else:\n",
    "                return int('-'+str1_x[::-1])\n",
    "        elif int('-'+str1_x[::-1]) <-2**31:\n",
    "            return 0\n",
    "        else:\n",
    "            return int('-'+str1_x[::-1])\n",
    "    elif x>0:\n",
    "        if int(str_x[-1:])==0:\n",
    "            if int(str_x[:-1][::-1])>2**31-1:\n",
    "                return 0\n",
    "            else:\n",
    "                return int(str_x[:-1][::-1])\n",
    "        elif int(str_x[::-1])>2**31-1:\n",
    "                return 0\n",
    "        else:\n",
    "            return int(str_x[::-1])\n",
    "    else:\n",
    "        return 0\n",
    "reverse(-1230)"
   ]
  },
  {
   "cell_type": "markdown",
   "metadata": {},
   "source": [
    "#### 解法一：改进"
   ]
  },
  {
   "cell_type": "code",
   "execution_count": 5,
   "metadata": {},
   "outputs": [
    {
     "data": {
      "text/plain": [
       "0"
      ]
     },
     "execution_count": 5,
     "metadata": {},
     "output_type": "execute_result"
    }
   ],
   "source": [
    " def reverse1(x):\n",
    "        \"\"\"\n",
    "        :type x: int\n",
    "        :rtype: int\n",
    "        \"\"\"\n",
    "        x=str(x)[::-1]\n",
    "        if int(x[::-1]) >=0:\n",
    "            return int(x) if int(x)<2**31-1 else 0\n",
    "        return int(x[:-1])*-1 if int(x[:-1])*-1>-2**31 else 0\n",
    "reverse1(0)"
   ]
  }
 ],
 "metadata": {
  "kernelspec": {
   "display_name": "Python 3",
   "language": "python",
   "name": "python3"
  },
  "language_info": {
   "codemirror_mode": {
    "name": "ipython",
    "version": 3
   },
   "file_extension": ".py",
   "mimetype": "text/x-python",
   "name": "python",
   "nbconvert_exporter": "python",
   "pygments_lexer": "ipython3",
   "version": "3.7.4"
  }
 },
 "nbformat": 4,
 "nbformat_minor": 2
}
